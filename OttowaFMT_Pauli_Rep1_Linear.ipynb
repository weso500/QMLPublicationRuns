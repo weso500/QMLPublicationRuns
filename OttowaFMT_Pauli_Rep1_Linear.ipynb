{
  "nbformat": 4,
  "nbformat_minor": 0,
  "metadata": {
    "colab": {
      "provenance": [],
      "machine_shape": "hm",
      "mount_file_id": "167DWC-bzYeDX3pnwZDEc7NbSRsoEvj7p",
      "authorship_tag": "ABX9TyO3jsR/p/ZjDWmzBSsfsHdL",
      "include_colab_link": true
    },
    "kernelspec": {
      "name": "python3",
      "display_name": "Python 3"
    },
    "language_info": {
      "name": "python"
    }
  },
  "cells": [
    {
      "cell_type": "markdown",
      "metadata": {
        "id": "view-in-github",
        "colab_type": "text"
      },
      "source": [
        "<a href=\"https://colab.research.google.com/github/weso500/QMLPublicationRuns/blob/main/OttowaFMT_Pauli_Rep1_Linear.ipynb\" target=\"_parent\"><img src=\"https://colab.research.google.com/assets/colab-badge.svg\" alt=\"Open In Colab\"/></a>"
      ]
    },
    {
      "cell_type": "code",
      "source": [
        "pip install qiskit"
      ],
      "metadata": {
        "colab": {
          "base_uri": "https://localhost:8080/"
        },
        "id": "ZgyNUORwX7zC",
        "outputId": "bf2ae7d1-3db0-4f2e-b7c7-834c11bb3fce"
      },
      "execution_count": 10,
      "outputs": [
        {
          "output_type": "stream",
          "name": "stdout",
          "text": [
            "Requirement already satisfied: qiskit in /usr/local/lib/python3.12/dist-packages (1.4.5)\n",
            "Requirement already satisfied: rustworkx>=0.15.0 in /usr/local/lib/python3.12/dist-packages (from qiskit) (0.17.1)\n",
            "Requirement already satisfied: numpy<3,>=1.17 in /usr/local/lib/python3.12/dist-packages (from qiskit) (2.0.2)\n",
            "Requirement already satisfied: scipy>=1.5 in /usr/local/lib/python3.12/dist-packages (from qiskit) (1.15.3)\n",
            "Requirement already satisfied: sympy>=1.3 in /usr/local/lib/python3.12/dist-packages (from qiskit) (1.13.3)\n",
            "Requirement already satisfied: dill>=0.3 in /usr/local/lib/python3.12/dist-packages (from qiskit) (0.3.8)\n",
            "Requirement already satisfied: python-dateutil>=2.8.0 in /usr/local/lib/python3.12/dist-packages (from qiskit) (2.9.0.post0)\n",
            "Requirement already satisfied: stevedore>=3.0.0 in /usr/local/lib/python3.12/dist-packages (from qiskit) (5.5.0)\n",
            "Requirement already satisfied: typing-extensions in /usr/local/lib/python3.12/dist-packages (from qiskit) (4.15.0)\n",
            "Requirement already satisfied: symengine<0.14,>=0.11 in /usr/local/lib/python3.12/dist-packages (from qiskit) (0.13.0)\n",
            "Requirement already satisfied: six>=1.5 in /usr/local/lib/python3.12/dist-packages (from python-dateutil>=2.8.0->qiskit) (1.17.0)\n",
            "Requirement already satisfied: mpmath<1.4,>=1.1.0 in /usr/local/lib/python3.12/dist-packages (from sympy>=1.3->qiskit) (1.3.0)\n"
          ]
        }
      ]
    },
    {
      "cell_type": "code",
      "source": [
        "pip install qiskit-machine-learning"
      ],
      "metadata": {
        "id": "hFPHrg0sYSqM",
        "colab": {
          "base_uri": "https://localhost:8080/"
        },
        "outputId": "54fc41ec-9a84-4308-843d-8583903d421d"
      },
      "execution_count": 11,
      "outputs": [
        {
          "output_type": "stream",
          "name": "stdout",
          "text": [
            "Requirement already satisfied: qiskit-machine-learning in /usr/local/lib/python3.12/dist-packages (0.8.4)\n",
            "Requirement already satisfied: qiskit<2.0,>=1.0 in /usr/local/lib/python3.12/dist-packages (from qiskit-machine-learning) (1.4.5)\n",
            "Requirement already satisfied: numpy>=2.0 in /usr/local/lib/python3.12/dist-packages (from qiskit-machine-learning) (2.0.2)\n",
            "Requirement already satisfied: scipy<1.16,>=1.4 in /usr/local/lib/python3.12/dist-packages (from qiskit-machine-learning) (1.15.3)\n",
            "Requirement already satisfied: scikit-learn>=1.2 in /usr/local/lib/python3.12/dist-packages (from qiskit-machine-learning) (1.6.1)\n",
            "Requirement already satisfied: setuptools>=40.1 in /usr/local/lib/python3.12/dist-packages (from qiskit-machine-learning) (75.2.0)\n",
            "Requirement already satisfied: dill>=0.3.4 in /usr/local/lib/python3.12/dist-packages (from qiskit-machine-learning) (0.3.8)\n",
            "Requirement already satisfied: rustworkx>=0.15.0 in /usr/local/lib/python3.12/dist-packages (from qiskit<2.0,>=1.0->qiskit-machine-learning) (0.17.1)\n",
            "Requirement already satisfied: sympy>=1.3 in /usr/local/lib/python3.12/dist-packages (from qiskit<2.0,>=1.0->qiskit-machine-learning) (1.13.3)\n",
            "Requirement already satisfied: python-dateutil>=2.8.0 in /usr/local/lib/python3.12/dist-packages (from qiskit<2.0,>=1.0->qiskit-machine-learning) (2.9.0.post0)\n",
            "Requirement already satisfied: stevedore>=3.0.0 in /usr/local/lib/python3.12/dist-packages (from qiskit<2.0,>=1.0->qiskit-machine-learning) (5.5.0)\n",
            "Requirement already satisfied: typing-extensions in /usr/local/lib/python3.12/dist-packages (from qiskit<2.0,>=1.0->qiskit-machine-learning) (4.15.0)\n",
            "Requirement already satisfied: symengine<0.14,>=0.11 in /usr/local/lib/python3.12/dist-packages (from qiskit<2.0,>=1.0->qiskit-machine-learning) (0.13.0)\n",
            "Requirement already satisfied: joblib>=1.2.0 in /usr/local/lib/python3.12/dist-packages (from scikit-learn>=1.2->qiskit-machine-learning) (1.5.2)\n",
            "Requirement already satisfied: threadpoolctl>=3.1.0 in /usr/local/lib/python3.12/dist-packages (from scikit-learn>=1.2->qiskit-machine-learning) (3.6.0)\n",
            "Requirement already satisfied: six>=1.5 in /usr/local/lib/python3.12/dist-packages (from python-dateutil>=2.8.0->qiskit<2.0,>=1.0->qiskit-machine-learning) (1.17.0)\n",
            "Requirement already satisfied: mpmath<1.4,>=1.1.0 in /usr/local/lib/python3.12/dist-packages (from sympy>=1.3->qiskit<2.0,>=1.0->qiskit-machine-learning) (1.3.0)\n"
          ]
        }
      ]
    },
    {
      "cell_type": "code",
      "source": [
        "pip install pyreadr"
      ],
      "metadata": {
        "id": "b-Cs-Mu7PwNC",
        "colab": {
          "base_uri": "https://localhost:8080/"
        },
        "outputId": "e9ea4df7-0974-4971-fe4a-335dcbf3aa8a"
      },
      "execution_count": 12,
      "outputs": [
        {
          "output_type": "stream",
          "name": "stdout",
          "text": [
            "Requirement already satisfied: pyreadr in /usr/local/lib/python3.12/dist-packages (0.5.3)\n",
            "Requirement already satisfied: pandas>=1.2.0 in /usr/local/lib/python3.12/dist-packages (from pyreadr) (2.2.2)\n",
            "Requirement already satisfied: numpy>=1.26.0 in /usr/local/lib/python3.12/dist-packages (from pandas>=1.2.0->pyreadr) (2.0.2)\n",
            "Requirement already satisfied: python-dateutil>=2.8.2 in /usr/local/lib/python3.12/dist-packages (from pandas>=1.2.0->pyreadr) (2.9.0.post0)\n",
            "Requirement already satisfied: pytz>=2020.1 in /usr/local/lib/python3.12/dist-packages (from pandas>=1.2.0->pyreadr) (2025.2)\n",
            "Requirement already satisfied: tzdata>=2022.7 in /usr/local/lib/python3.12/dist-packages (from pandas>=1.2.0->pyreadr) (2025.2)\n",
            "Requirement already satisfied: six>=1.5 in /usr/local/lib/python3.12/dist-packages (from python-dateutil>=2.8.2->pandas>=1.2.0->pyreadr) (1.17.0)\n"
          ]
        }
      ]
    },
    {
      "cell_type": "code",
      "source": [
        "import pyreadr\n",
        "import matplotlib.pyplot as plt\n",
        "import seaborn as sns\n",
        "import numpy as np\n",
        "import pandas as pd"
      ],
      "metadata": {
        "id": "hNpe4-x7P0Xe"
      },
      "execution_count": 13,
      "outputs": []
    },
    {
      "cell_type": "code",
      "source": [
        "import pandas as pd\n",
        "import numpy as np\n",
        "\n",
        "# Load the training data\n",
        "train_df = pd.read_csv('/content/drive/MyDrive/QMLIIOT/Train_11_final.csv')\n",
        "\n",
        "# Load the test data\n",
        "test_df = pd.read_csv('/content/drive/MyDrive/QMLIIOT/Test_11_final.csv')\n"
      ],
      "metadata": {
        "id": "_6bikTGNRbX_"
      },
      "execution_count": 14,
      "outputs": []
    },
    {
      "cell_type": "code",
      "source": [
        "\n",
        "from qiskit.circuit.library import ZZFeatureMap\n",
        "from qiskit.circuit.library import PauliFeatureMap\n",
        "from qiskit.primitives import StatevectorSampler as Sampler\n",
        "from qiskit_machine_learning.state_fidelities import ComputeUncompute\n",
        "from qiskit_machine_learning.kernels import FidelityQuantumKernel\n",
        "\n",
        "dimension = 11\n",
        "feature_map = PauliFeatureMap(feature_dimension=dimension, reps=1, entanglement=\"linear\")\n",
        "\n",
        "sampler = Sampler()\n",
        "\n",
        "fidelity = ComputeUncompute(sampler=sampler)\n",
        "\n",
        "kernel = FidelityQuantumKernel(fidelity=fidelity, feature_map=feature_map)"
      ],
      "metadata": {
        "id": "Isf2HH1kYigi"
      },
      "execution_count": 15,
      "outputs": []
    },
    {
      "cell_type": "code",
      "source": [
        "import pandas as pd\n",
        "import numpy as np\n",
        "from sklearn.preprocessing import StandardScaler\n",
        "from sklearn.svm import OneClassSVM\n",
        "from sklearn import metrics\n",
        "from sklearn.kernel_approximation import Nystroem\n",
        "from joblib import Parallel, delayed\n",
        "\n",
        "# === Define helper for one trial ===\n",
        "def run_trial(i):\n",
        "\n",
        "    # Convert training features to numpy array and select 100 samples\n",
        "    train_features = train_df.sample(n=100, random_state=i).to_numpy()\n",
        "\n",
        "    # Randomly sample 50 from the first 500 and 5 from the last 100 (500-600)\n",
        "    test_features_normal = test_df.iloc[:500].sample(n=70, random_state=i).to_numpy()\n",
        "    test_features_anomaly = test_df.iloc[500:600].sample(n=5, random_state=i).to_numpy()\n",
        "    test_features = np.concatenate((test_features_normal, test_features_anomaly))\n",
        "\n",
        "    # Create target arrays for training and testing data\n",
        "    test_target = np.concatenate((np.zeros(70), np.ones(5)))\n",
        "\n",
        "    # --- Nyström approximation of the quantum kernel ---\n",
        "    n_components = min(64, len(train_features)-1)\n",
        "    Phi = Nystroem(\n",
        "        kernel=lambda A,B=None: kernel.evaluate(x_vec=A, y_vec=B),\n",
        "        n_components=n_components,\n",
        "        random_state=i\n",
        "    )\n",
        "    Ztr = Phi.fit_transform(train_features)\n",
        "    Zte = Phi.transform(test_features)\n",
        "\n",
        "    # Compute approximate Gram matrices for precomputed OCSVM\n",
        "    Ktr = Ztr @ Ztr.T\n",
        "    Kte = Zte @ Ztr.T\n",
        "\n",
        "    ocsvm = OneClassSVM(kernel='precomputed')\n",
        "    ocsvm.fit(Ktr)\n",
        "    scores = -ocsvm.decision_function(Kte)\n",
        "\n",
        "    fpr, tpr, _ = metrics.roc_curve(test_target, scores, pos_label=1)\n",
        "    auc = metrics.auc(fpr, tpr)\n",
        "    print(auc)\n",
        "    return auc\n",
        "\n",
        "# === Run in parallel ===\n",
        "aucs = Parallel(n_jobs=8)(delayed(run_trial)(i) for i in range(1))\n",
        "print(f\"\\nMean AUC={np.mean(aucs):.3f} ± {np.std(aucs):.3f}\")"
      ],
      "metadata": {
        "id": "iFHJfhFzaV5I",
        "colab": {
          "base_uri": "https://localhost:8080/"
        },
        "outputId": "0d10cf8b-b8aa-405d-a2bf-ec74030625ca"
      },
      "execution_count": 16,
      "outputs": [
        {
          "output_type": "stream",
          "name": "stdout",
          "text": [
            "\n",
            "Mean AUC=0.529 ± 0.000\n"
          ]
        }
      ]
    },
    {
      "cell_type": "code",
      "source": [
        "import pandas as pd\n",
        "import numpy as np\n",
        "from sklearn.preprocessing import StandardScaler\n",
        "from sklearn.svm import OneClassSVM\n",
        "from sklearn import metrics\n",
        "from sklearn.kernel_approximation import Nystroem\n",
        "from joblib import Parallel, delayed\n",
        "\n",
        "# ---- Helper: 95% CI for a 1D array-like\n",
        "def mean_ci(arr, alpha=0.05):\n",
        "    arr = np.asarray(arr, dtype=float)\n",
        "    n = len(arr)\n",
        "    m = np.mean(arr)\n",
        "    s = np.std(arr, ddof=1) if n > 1 else 0.0\n",
        "    z = 1.96  # normal approximation\n",
        "    half = z * (s / np.sqrt(max(n, 1)))\n",
        "    return m, m - half, m + half\n",
        "\n",
        "def youden_threshold(y_true, scores):\n",
        "    \"\"\"Return the threshold that maximizes Youden's J = TPR - FPR.\"\"\"\n",
        "    fpr, tpr, thr = metrics.roc_curve(y_true, scores, pos_label=1)\n",
        "    # Avoid non-finite thresholds (first element can be inf)\n",
        "    mask = np.isfinite(thr)\n",
        "    fpr, tpr, thr = fpr[mask], tpr[mask], thr[mask]\n",
        "    j = tpr - fpr\n",
        "    if len(j) == 0:\n",
        "        # fallback: median score if something degenerate happens\n",
        "        return np.median(scores)\n",
        "    idx = np.argmax(j)\n",
        "    return thr[idx]\n",
        "\n",
        "# === Define helper for one trial ===\n",
        "def run_trial(i, fault_id=1, n_train_normals=100, n_test_normals=70, n_test_faulty=5, nystrom_components=64, nu=0.05):\n",
        "    rng = np.random.RandomState(i)\n",
        "    sc = StandardScaler()\n",
        "\n",
        "    # Convert training features to numpy array and select 100 samples\n",
        "    train_features = train_df.sample(n=100, random_state=i).to_numpy()\n",
        "\n",
        "    # Randomly sample 50 from the first 500 and 5 from the last 100 (500-600)\n",
        "    test_features_normal = test_df.iloc[:500].sample(n=70, random_state=i).to_numpy()\n",
        "    test_features_anomaly = test_df.iloc[500:600].sample(n=5, random_state=i).to_numpy()\n",
        "    test_features = np.concatenate((test_features_normal, test_features_anomaly))\n",
        "\n",
        "    # Create target arrays for training and testing data\n",
        "    y_true = np.concatenate((np.zeros(70), np.ones(5)))\n",
        "\n",
        "    # --- Nyström approximation of the quantum kernel ---\n",
        "    n_components = min(nystrom_components, len(train_features) - 1)\n",
        "    Phi = Nystroem(\n",
        "        kernel=lambda A, B=None: kernel.evaluate(x_vec=A, y_vec=B),\n",
        "        n_components=n_components,\n",
        "        random_state=i\n",
        "    )\n",
        "    Ztr = Phi.fit_transform(train_features)\n",
        "    Zte = Phi.transform(test_features)\n",
        "\n",
        "    # Precomputed Gram matrices\n",
        "    Ktr = Ztr @ Ztr.T\n",
        "    Kte = Zte @ Ztr.T\n",
        "\n",
        "    # One-Class SVM (nu ~ anomaly prior)\n",
        "    ocsvm = OneClassSVM(kernel='precomputed', nu=nu)\n",
        "    ocsvm.fit(Ktr)\n",
        "\n",
        "    # Scores: higher = more anomalous\n",
        "    scores = -ocsvm.decision_function(Kte)\n",
        "\n",
        "    # --- Threshold-free metrics\n",
        "    roc_auc = metrics.roc_auc_score(y_true, scores)\n",
        "    pr_auc  = metrics.average_precision_score(y_true, scores)\n",
        "\n",
        "    # --- Youden-optimal threshold\n",
        "    thr = youden_threshold(y_true, scores)\n",
        "    y_pred = (scores >= thr).astype(int)  # 1 = anomaly\n",
        "\n",
        "    precision = metrics.precision_score(y_true, y_pred, zero_division=0)\n",
        "    recall    = metrics.recall_score(y_true, y_pred, zero_division=0)\n",
        "    f1        = metrics.f1_score(y_true, y_pred, zero_division=0)\n",
        "    accuracy  = metrics.accuracy_score(y_true, y_pred)\n",
        "\n",
        "    return {\n",
        "        \"roc_auc\": roc_auc,\n",
        "        \"pr_auc\": pr_auc,\n",
        "        \"precision\": precision,\n",
        "        \"recall\": recall,\n",
        "        \"f1\": f1,\n",
        "        \"accuracy\": accuracy,\n",
        "        \"threshold\": thr\n",
        "    }\n",
        "\n",
        "# === Run in parallel ===\n",
        "N_RUNS = 30\n",
        "results = Parallel(n_jobs=8)(\n",
        "    delayed(run_trial)(i, fault_id=1, n_train_normals=100, n_test_normals=70, n_test_faulty=5,\n",
        "                       nystrom_components=64, nu=0.05)\n",
        "    for i in range(N_RUNS)\n",
        ")\n",
        "df = pd.DataFrame(results)\n",
        "\n",
        "# === Summaries with 95% CI ===\n",
        "summary_rows = []\n",
        "for metric in [\"roc_auc\", \"pr_auc\", \"precision\", \"recall\", \"f1\", \"accuracy\", \"threshold\"]:\n",
        "    m, lo, hi = mean_ci(df[metric].values)\n",
        "    summary_rows.append({\"metric\": metric, \"mean\": m, \"ci95_lo\": lo, \"ci95_hi\": hi})\n",
        "\n",
        "summary = pd.DataFrame(summary_rows).set_index(\"metric\")\n",
        "\n",
        "print(\"\\n=== Cross-run metrics (mean ± 95% CI) using Youden-optimal threshold ===\")\n",
        "for metric, row in summary.iterrows():\n",
        "    if metric == \"threshold\":\n",
        "        print(f\"{metric:>9}: {row['mean']:.4f}  (95% CI: {row['ci95_lo']:.4f} .. {row['ci95_hi']:.4f})\")\n",
        "    else:\n",
        "        print(f\"{metric:>9}: {row['mean']:.3f}  (95% CI: {row['ci95_lo']:.3f} .. {row['ci95_hi']:.3f})\")\n",
        "\n",
        "\n"
      ],
      "metadata": {
        "colab": {
          "base_uri": "https://localhost:8080/"
        },
        "id": "vwyyY8fRjTmx",
        "outputId": "20f48176-6f01-460a-90e0-b0611695143e"
      },
      "execution_count": 17,
      "outputs": [
        {
          "output_type": "stream",
          "name": "stdout",
          "text": [
            "\n",
            "=== Cross-run metrics (mean ± 95% CI) using Youden-optimal threshold ===\n",
            "  roc_auc: 0.512  (95% CI: 0.474 .. 0.550)\n",
            "   pr_auc: 0.093  (95% CI: 0.080 .. 0.107)\n",
            "precision: 0.118  (95% CI: 0.098 .. 0.138)\n",
            "   recall: 0.813  (95% CI: 0.734 .. 0.893)\n",
            "       f1: 0.193  (95% CI: 0.173 .. 0.214)\n",
            " accuracy: 0.480  (95% CI: 0.391 .. 0.569)\n",
            "threshold: 0.0002  (95% CI: 0.0001 .. 0.0002)\n"
          ]
        }
      ]
    }
  ]
}